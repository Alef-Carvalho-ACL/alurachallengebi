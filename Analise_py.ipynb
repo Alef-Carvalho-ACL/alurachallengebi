{
 "cells": [
  {
   "cell_type": "markdown",
   "source": [
    "# Bibliotecas"
   ],
   "metadata": {}
  },
  {
   "cell_type": "code",
   "execution_count": 110,
   "source": [
    "# Import:\r\n",
    "import pandas as pd\r\n",
    "import pyodbc\r\n",
    "from glob import glob\r\n",
    "import fsspec\r\n",
    "from urllib.parse import quote_plus\r\n",
    "from sqlalchemy import create_engine\r\n",
    "import locale\r\n",
    "from datetime import datetime"
   ],
   "outputs": [],
   "metadata": {}
  },
  {
   "cell_type": "markdown",
   "source": [
    "# Lendo os arquivos (caminho)"
   ],
   "metadata": {}
  },
  {
   "cell_type": "code",
   "execution_count": 111,
   "source": [
    "# Digite o caminho e não se espeça de inserir a extensão dele no final da str\r\n",
    "files = sorted(glob('C:\\\\Users\\\\alefc\\\\OneDrive\\\\Documentos\\\\Alura\\\\PBI\\\\01 - Challenge Alura log\\\\Bases\\\\*.csv'))\r\n",
    "files"
   ],
   "outputs": [
    {
     "output_type": "execute_result",
     "data": {
      "text/plain": [
       "['C:\\\\Users\\\\alefc\\\\OneDrive\\\\Documentos\\\\Alura\\\\PBI\\\\01 - Challenge Alura log\\\\Bases\\\\Tabela - Estoque.csv',\n",
       " 'C:\\\\Users\\\\alefc\\\\OneDrive\\\\Documentos\\\\Alura\\\\PBI\\\\01 - Challenge Alura log\\\\Bases\\\\Tabela - Pedidos.CSV',\n",
       " 'C:\\\\Users\\\\alefc\\\\OneDrive\\\\Documentos\\\\Alura\\\\PBI\\\\01 - Challenge Alura log\\\\Bases\\\\Tabela - Produtos.csv',\n",
       " 'C:\\\\Users\\\\alefc\\\\OneDrive\\\\Documentos\\\\Alura\\\\PBI\\\\01 - Challenge Alura log\\\\Bases\\\\Tabela - Veículos.csv']"
      ]
     },
     "metadata": {},
     "execution_count": 111
    }
   ],
   "metadata": {}
  },
  {
   "cell_type": "code",
   "execution_count": 112,
   "source": [
    "dfEstoque = pd.read_csv(files[0])\r\n",
    "dfProdutos = pd.read_csv(files[2])\r\n",
    "dfVeiculos = pd.read_csv(files[3])\r\n",
    "dfPedidos = pd.read_csv(files[1], sep=';')"
   ],
   "outputs": [],
   "metadata": {}
  },
  {
   "cell_type": "code",
   "execution_count": 113,
   "source": [
    "dfVeiculos['ID veículos'] = dfVeiculos['ID veículos'].str.lstrip(\"VEH\")\r\n",
    "# Comando para criar o ID correto para os veículos"
   ],
   "outputs": [],
   "metadata": {}
  },
  {
   "cell_type": "code",
   "execution_count": 114,
   "source": [
    "dfEstoque['Data atualização'] = dfEstoque['Data atualização'].str.replace('.','')\r\n",
    "dfEstoque['Data atualização'] = dfEstoque['Data atualização'].str.replace('-','/')\r\n",
    "dfEstoque['Data atualização'] = dfEstoque['Data atualização'].str.replace('jan','01')\r\n",
    "dfEstoque['Data atualização'] = dfEstoque['Data atualização'].str.replace('fev','02')\r\n",
    "dfEstoque['Data atualização'] = dfEstoque['Data atualização'].str.replace('mar','03')\r\n",
    "dfEstoque['Data atualização'] = dfEstoque['Data atualização'].str.replace('abr','04')\r\n",
    "dfEstoque['Data atualização'] = dfEstoque['Data atualização'].str.replace('mai','05')\r\n",
    "dfEstoque['Data atualização'] = dfEstoque['Data atualização'].str.replace('jun','06')\r\n",
    "dfEstoque['Data atualização'] = dfEstoque['Data atualização'].str.replace('jul','07')\r\n",
    "dfEstoque['Data atualização'] = dfEstoque['Data atualização'].str.replace('ago','08')\r\n",
    "dfEstoque['Data atualização'] = dfEstoque['Data atualização'].str.replace('set','09')\r\n",
    "dfEstoque['Data atualização'] = dfEstoque['Data atualização'].str.replace('out','10')\r\n",
    "dfEstoque['Data atualização'] = dfEstoque['Data atualização'].str.replace('nov','11')\r\n",
    "dfEstoque['Data atualização'] = dfEstoque['Data atualização'].str.replace('dez','12')\r\n",
    "dfEstoque['Data atualização'] = pd.to_datetime(dfEstoque['Data atualização'])"
   ],
   "outputs": [
    {
     "output_type": "stream",
     "name": "stderr",
     "text": [
      "<ipython-input-114-ec4b16c4bbc7>:1: FutureWarning: The default value of regex will change from True to False in a future version. In addition, single character regular expressions will*not* be treated as literal strings when regex=True.\n",
      "  dfEstoque['Data atualização'] = dfEstoque['Data atualização'].str.replace('.','')\n"
     ]
    }
   ],
   "metadata": {}
  },
  {
   "cell_type": "code",
   "execution_count": 115,
   "source": [
    "dfPedidos['Data previsão'] = pd.to_datetime(dfPedidos['Data previsão'])"
   ],
   "outputs": [],
   "metadata": {}
  },
  {
   "cell_type": "markdown",
   "source": [],
   "metadata": {}
  },
  {
   "cell_type": "markdown",
   "source": [
    "# SQL"
   ],
   "metadata": {}
  },
  {
   "cell_type": "code",
   "execution_count": 116,
   "source": [
    "# Conexão com BD:\r\n",
    "parametros = (\r\n",
    "    # Driver que será utilizado na conexão\r\n",
    "    'DRIVER={SQL Server};'\r\n",
    "    # IP ou nome do servidor.\r\n",
    "    'SERVER=.;'\r\n",
    "    # Banco que será utilizado.\r\n",
    "    'DATABASE=Projetos;'\r\n",
    "    # acesso pela credencial do windows\r\n",
    "    'Trusted_Connection=yes')\r\n",
    "    # Nome de usuário.\r\n",
    "    # 'UID=login;'\r\n",
    "    # Senha/Token.\r\n",
    "    # 'PWD=senha')\r\n",
    "\r\n",
    "url_db = quote_plus(parametros)\r\n",
    "\r\n",
    "db = create_engine(\"mssql+pyodbc:///?odbc_connect=%s\" % url_db)\r\n",
    "\r\n",
    "conexao = db.connect()"
   ],
   "outputs": [],
   "metadata": {}
  },
  {
   "cell_type": "code",
   "execution_count": 117,
   "source": [
    "dfEstoque.to_sql(\r\n",
    "    name = 'dfEstoque',\r\n",
    "    con = db,\r\n",
    "    index = False,\r\n",
    "    if_exists = 'replace'\r\n",
    ")\r\n",
    "\r\n",
    "dfProdutos.to_sql(\r\n",
    "    name = 'dfProdutos',\r\n",
    "    con = db,\r\n",
    "    index = False,\r\n",
    "    if_exists = 'replace'\r\n",
    ")\r\n",
    "\r\n",
    "dfVeiculos.to_sql(\r\n",
    "    name = 'dfVeiculos',\r\n",
    "    con = db,\r\n",
    "    index = False,\r\n",
    "    if_exists = 'replace'\r\n",
    ")\r\n",
    "\r\n",
    "dfPedidos.to_sql(\r\n",
    "    name = 'dfPedidos',\r\n",
    "    con = db,\r\n",
    "    index = False,\r\n",
    "    if_exists = 'replace'\r\n",
    ")"
   ],
   "outputs": [],
   "metadata": {}
  },
  {
   "cell_type": "code",
   "execution_count": 118,
   "source": [
    "dfSQL = pd.read_sql(\"select * from dfPedidos\", db)"
   ],
   "outputs": [],
   "metadata": {}
  },
  {
   "cell_type": "code",
   "execution_count": 119,
   "source": [
    "dfSQL.head()"
   ],
   "outputs": [
    {
     "output_type": "execute_result",
     "data": {
      "text/html": [
       "<div>\n",
       "<style scoped>\n",
       "    .dataframe tbody tr th:only-of-type {\n",
       "        vertical-align: middle;\n",
       "    }\n",
       "\n",
       "    .dataframe tbody tr th {\n",
       "        vertical-align: top;\n",
       "    }\n",
       "\n",
       "    .dataframe thead th {\n",
       "        text-align: right;\n",
       "    }\n",
       "</style>\n",
       "<table border=\"1\" class=\"dataframe\">\n",
       "  <thead>\n",
       "    <tr style=\"text-align: right;\">\n",
       "      <th></th>\n",
       "      <th>ID Pedido</th>\n",
       "      <th>ID Produto</th>\n",
       "      <th>Quantidade</th>\n",
       "      <th>ID Veículo</th>\n",
       "      <th>Status do pedido</th>\n",
       "      <th>Data da compra</th>\n",
       "      <th>Data de entrega</th>\n",
       "      <th>Data previsão</th>\n",
       "      <th>Latitude</th>\n",
       "      <th>Longitude</th>\n",
       "      <th>UF da entrega</th>\n",
       "    </tr>\n",
       "  </thead>\n",
       "  <tbody>\n",
       "    <tr>\n",
       "      <th>0</th>\n",
       "      <td>1</td>\n",
       "      <td>32</td>\n",
       "      <td>3</td>\n",
       "      <td>19</td>\n",
       "      <td>Entregue</td>\n",
       "      <td>1/4/21 21:15</td>\n",
       "      <td>22/01/2021 21:15</td>\n",
       "      <td>2021-01-23 21:15:00</td>\n",
       "      <td>-22.19</td>\n",
       "      <td>-48.79</td>\n",
       "      <td>SP</td>\n",
       "    </tr>\n",
       "    <tr>\n",
       "      <th>1</th>\n",
       "      <td>2</td>\n",
       "      <td>50</td>\n",
       "      <td>9</td>\n",
       "      <td>42</td>\n",
       "      <td>Entregue</td>\n",
       "      <td>1/5/21 0:15</td>\n",
       "      <td>14/01/2021 00:15</td>\n",
       "      <td>2021-01-25 00:15:00</td>\n",
       "      <td>-22.19</td>\n",
       "      <td>-48.79</td>\n",
       "      <td>SP</td>\n",
       "    </tr>\n",
       "    <tr>\n",
       "      <th>2</th>\n",
       "      <td>3</td>\n",
       "      <td>39</td>\n",
       "      <td>3</td>\n",
       "      <td>19</td>\n",
       "      <td>Entregue</td>\n",
       "      <td>1/13/21 15:24</td>\n",
       "      <td>20/01/2021 15:24</td>\n",
       "      <td>2021-02-02 15:24:00</td>\n",
       "      <td>-20.51</td>\n",
       "      <td>-54.54</td>\n",
       "      <td>MS</td>\n",
       "    </tr>\n",
       "    <tr>\n",
       "      <th>3</th>\n",
       "      <td>4</td>\n",
       "      <td>39</td>\n",
       "      <td>1</td>\n",
       "      <td>16</td>\n",
       "      <td>Entregue</td>\n",
       "      <td>1/5/21 12:16</td>\n",
       "      <td>16/01/2021 12:16</td>\n",
       "      <td>2021-01-23 12:16:00</td>\n",
       "      <td>-6.60</td>\n",
       "      <td>-42.28</td>\n",
       "      <td>PI</td>\n",
       "    </tr>\n",
       "    <tr>\n",
       "      <th>4</th>\n",
       "      <td>5</td>\n",
       "      <td>19</td>\n",
       "      <td>7</td>\n",
       "      <td>14</td>\n",
       "      <td>Entregue</td>\n",
       "      <td>1/2/21 22:07</td>\n",
       "      <td>17/01/2021 22:07</td>\n",
       "      <td>2021-01-18 22:07:00</td>\n",
       "      <td>-22.25</td>\n",
       "      <td>-42.66</td>\n",
       "      <td>RJ</td>\n",
       "    </tr>\n",
       "  </tbody>\n",
       "</table>\n",
       "</div>"
      ],
      "text/plain": [
       "   ID Pedido  ID Produto  Quantidade  ID Veículo Status do pedido  \\\n",
       "0          1          32           3          19         Entregue   \n",
       "1          2          50           9          42         Entregue   \n",
       "2          3          39           3          19         Entregue   \n",
       "3          4          39           1          16         Entregue   \n",
       "4          5          19           7          14         Entregue   \n",
       "\n",
       "  Data da compra   Data de entrega       Data previsão  Latitude  Longitude  \\\n",
       "0   1/4/21 21:15  22/01/2021 21:15 2021-01-23 21:15:00    -22.19     -48.79   \n",
       "1    1/5/21 0:15  14/01/2021 00:15 2021-01-25 00:15:00    -22.19     -48.79   \n",
       "2  1/13/21 15:24  20/01/2021 15:24 2021-02-02 15:24:00    -20.51     -54.54   \n",
       "3   1/5/21 12:16  16/01/2021 12:16 2021-01-23 12:16:00     -6.60     -42.28   \n",
       "4   1/2/21 22:07  17/01/2021 22:07 2021-01-18 22:07:00    -22.25     -42.66   \n",
       "\n",
       "  UF da entrega  \n",
       "0            SP  \n",
       "1            SP  \n",
       "2            MS  \n",
       "3            PI  \n",
       "4            RJ  "
      ]
     },
     "metadata": {},
     "execution_count": 119
    }
   ],
   "metadata": {}
  }
 ],
 "metadata": {
  "orig_nbformat": 4,
  "language_info": {
   "name": "python",
   "version": "3.9.1",
   "mimetype": "text/x-python",
   "codemirror_mode": {
    "name": "ipython",
    "version": 3
   },
   "pygments_lexer": "ipython3",
   "nbconvert_exporter": "python",
   "file_extension": ".py"
  },
  "kernelspec": {
   "name": "python3",
   "display_name": "Python 3.9.1 64-bit"
  },
  "interpreter": {
   "hash": "004103aaff15c3bdf382cf3041fc16499dd70f8b40bb629eeec4e34f73f5dcec"
  }
 },
 "nbformat": 4,
 "nbformat_minor": 2
}